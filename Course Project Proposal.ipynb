{
 "cells": [
  {
   "cell_type": "markdown",
   "id": "c19343df",
   "metadata": {},
   "source": [
    "# Joanna Wang - Course Project Proposal"
   ]
  },
  {
   "cell_type": "markdown",
   "id": "8171407d",
   "metadata": {},
   "source": [
    "**note - why I used different methods for each option:**\n",
    "\n",
    "I chose to use only bootstrapping for option 2, while for options 1 and 3, I opted for both bootstrapping and linear regression. This decision is based on the different focuses of my analyses.\n",
    "\n",
    "For option 2, bootstrapping is sufficient because it directly addresses the goal of comparing group means or medians without the complexity of regression modeling. The research question is framed to assess whether an established relationship or correlation exists between the variables, rather than quantifying that relationship. If I were exploring additional nuances, such as relationship dynamics or potential confounding factors, incorporating linear regression could be beneficial but is not strictly necessary. Plus, the focus for option 2 is more on understanding group differences than on the dynamics between variables.\n",
    "\n",
    "In contrast, for questions 1 and 3, I focus on establishing and quantifying relationships—specifically, how changes in one variable (like physical interactions or fear level) predict changes in another (life satisfaction or prevention adherence). Which is why I use both bootstrapping and linear regression for options 1 and 3. I also get a more comprehensive analysis when using both. "
   ]
  },
  {
   "cell_type": "markdown",
   "id": "b464b58d",
   "metadata": {},
   "source": [
    "# Option 1"
   ]
  },
  {
   "cell_type": "markdown",
   "id": "42fd92a0",
   "metadata": {},
   "source": [
    "**research question:**\n",
    "\n",
    "Is the frequency of physical interactions (hugging, kissing, having sex) associated with an individual's life satisfaction rating during the COVID-19 pandemic.\n",
    "\n",
    "**variables:**\n",
    "\n",
    "independent (categorical; ordinal data): Frequency of physical interactions (hugging, kissing, having sex) denoted by \"daily\", \"almost daily\", \"weekly\", \" a few times a week\", \"monthly\", \"a few times a month\", \" less than monthly\", \"not in the past three months\", \"n/a\"\n",
    "\n",
    "note: each frequency level will be assigned a numerical value based on order, the higher the frquency, the larger the corresponding numerical value. **e.g. daily being 8 and less than monthly being 0**\n",
    "\n",
    "dependent (numerical data): Life satisfaction rating during the pandemic denoted by numbers on a scale from 0 to 10\n",
    "\n",
    "note: 0 is not satisfied and 10 being very satisfied\n",
    "\n",
    "**hypothesis:**\n",
    "\n",
    "null hypothesis: there is no correlation between the frequency of physical interactions and an individual's life satisfaction rating\n",
    "\n",
    "alternative hypothesis: there is a correlation between the frequency of physical interactions and an individual's life satisfaction rating\n",
    "\n",
    "**analyses i plan on performing:**\n",
    "This analysis aims to explore how different types of physical interactions, such as hugging, kissing, and having sex, are associated with life satisfaction ratings during the pandemic by performing bootstrapping to establish that a correlation likely exists and then using linear regression to quantify the nature and strength of this relationship, to develop a more comprehensive understanding of how the frequency of physical interactions impacts life satisfaction.\n",
    "\n",
    "**step 1 - cleaning data & visualization:**\n",
    "\n",
    "Before visualizing my data to determine whether or not to use bootstrapping, I'll first calculate summary statistics (mean, median, standard deviation, IQRs) to gain a better understanding of my data's central tendencies, spread, and any potential issues (like outliers or skewness). This analysis will inform how I clean the data. While I'll be getting rid of any null values, I may consider whether to include \"n/a\" responses in my analysis even though the survey has a response option for \"no\" in the columns I'll be analyzing.\n",
    "\n",
    "Next, I will visualize my data using a bar plot or histogram to determine the distribution and if I should move on to bootstrapping. If the distribution resembles a normal bell-curve, I will proceed with bootstrapping and construct confidence intervals. If the distribution is skewed or if the sample size is small, I'll consider increasing my sample size to achieve a more normal distribution and from there, I'll move onto bootstrapping. I'll use a histogram for life satisfaction ratings will help identify its distribution, while a bar plot for the frequency of physical interactions will show the spread across categories. \n",
    "\n",
    "**step 2 - bootstrapping:**\n",
    "\n",
    "First, I'll define the statistic and draw bootstrap samples using sampling with replacement, ensuring that the size of each bootstrap sample matches that of the original sample to generate my bootstrapped distribution. I'll perform this process at least 1000 times to increase the accuracy of my samples; the more times i bootstrap, the better my distribution will be. Next, I'll calculate the statistic and compute summary statistics (mean, median, std, IQRs). \n",
    "\n",
    "From here, I'll begin to construct my confidence intervals by determining my lower and upper bounds of the bootstrap distribution, which are the 2.5th and 97.5th percentiles, respectively. I will then test whether my null hypothesis falls within this interval; if the null hypothesis value lies outside the confidence interval, I will reject it, indicating a significant association between physical interaction frequency and life satisfaction. This will allow me to state that there is a correlation between the frequency of physical interactions during the pandemic and an individual's life satisfaction rating.\n",
    "\n",
    "**step 3 - linear regression model:**\n",
    "\n",
    "To go further with my analysis, I can construct a simple linear regression model to quantify the degree of this correlation and  determine if there’s a statistically significant (a low p-value) difference in life satisfaction across interaction frequencies.\n",
    "\n",
    "When using a linear regression model, we are under the assumption that the relationship between variables is linear and independent, the residuals (errors) have a constant variance and are normally distributed. I'll be calling statsmodels to fit the model to my data using the equation Y=β0​+β1​X+ϵ. Interpret the coefficients and evaluate the model fit using the r-squared value and the p-value. Next, I'll be able to visualize the regression line over a scatter plot of your data points to observe the fit; a scatter plot of \"life satisfaction ratings\" against each of my independent variables \"frequency of hugging, kissing, and having sex.\" \n",
    "\n",
    "From this model, I will summarize the strength and significance of the association and interpret the slope, noting that a larger absolute value of the slope indicates a stronger relationship. Ultimately, this analysis will help me understand how changes in the frequency of physical interactions predict changes in life satisfaction ratings during the pandemic.\n",
    "\n",
    "**hypothesis for this experiment:**\n",
    "I expect higher frequencies to associate with higher ratings as I believe there is a correlation between the frequency of physical interactions and life satisfaction ratings during the pandemic. "
   ]
  },
  {
   "cell_type": "markdown",
   "id": "a639174b",
   "metadata": {},
   "source": [
    "# Option 2"
   ]
  },
  {
   "cell_type": "markdown",
   "id": "965d76bb",
   "metadata": {},
   "source": [
    "**research question:**\n",
    "\n",
    "How is having a support system associated with happiness during the pandemic?\n",
    "\n",
    "**variables:**\n",
    "\n",
    "independent (nominal data from the LONELY_dejong_emotional_social_loneliness_scale columns): Presence of a support system based on survey responses denoted by \"There are plenty of people I can rely on when I have problems\", \"trust completely\", \"there are enough people I feel close to\", \"I often feel rejected\", \"n/a\"\n",
    "\n",
    "note: survey responses will be categorized as \"supportive\" or \"not supportive,\" depending on individuals' levels of agreement. Each category will also have a numerical value assigned; supportive will be 0 and not supportive will be 1. \n",
    "\n",
    "dependent (numerical data from the WELLNESS_subjective_happiness_scale_always_happy column): happiness rating denoted by numbers on a scale from 0 to 10\n",
    "\n",
    "note: 0 being not happy and 10 being very happy\n",
    "\n",
    "**hypothesis:** \n",
    "\n",
    "null hypothesis: Having a support system is not associated with any difference in happiness during the pandemic.\n",
    "\n",
    "alternative hypothesis: Having a support system is associated with a difference in happiness during the pandemic.\n",
    "\n",
    "**analyses i plan on performing:**\n",
    "\n",
    "This analysis explores the association between the presence of a support system and an individual's level of happiness during the pandemic. By using bootstrapping, I aim to quantify the relationship and determine the significance of any observed patterns, ultimately providing a deeper understanding of the potential impact of social support on individual well-being.\n",
    "\n",
    "**step 1 - cleaning data, data summarization, visualization:**\n",
    "\n",
    "I'll first calculate summary statistics (mean, median, standard deviation, IQRs) to gain a better understanding of my data's central tendencies, spread, and any potential issues (like outliers or skewness). This analysis will inform how I clean the data. If there are non-response options like “N/A,” I may decide whether to exclude them from my analysis or assign them a neutral numeric value (e.g., leave blank or as 0 if “not at all”). But as of right now I'm not sure. \n",
    "\n",
    "I'll use a bar plot of happiness ratings for each support system category (supportive vs. not supportive) to provide a visual comparison of happiness levels across groups, helping identify any apparent differences in central tendency or spread. This comparison will help me see if the average happiness rating is higher for people who report having a support system compared to those who don’t. If there’s a noticeable difference, it suggests a potential association between support system presence and happiness; people with active support report higher happiness. By visualizing average happiness scores by support system group, I can detect initial trends in happiness levels based on support presence, which could inform subsequent analysis steps like bootstrapping.\n",
    "\n",
    "**step 2 - bootstrapping:** \n",
    "\n",
    "First, I'll define the statistic and draw bootstrap samples using sampling with replacement, ensuring that the size of each bootstrap sample matches that of the original sample to generate my bootstrapped distribution. \n",
    "\n",
    "I'll repeatedly sample from each support system group to establish a distribution of mean happiness scores. I'll define the statistic (mean or median happiness rating) for each support system group and draw bootstrap samples with replacement, ensuring the sample size matches the original dataset’s size. Then I'll calculate the 2.5th and 97.5th percentiles of the bootstrapped distribution to establish the confidence interval for happiness levels within each support group. I'll repeat this process at least 1,000 times to create a stable bootstrapped distribution.\n",
    "\n",
    "The constructed confidence intervals will allow me to test whether the average happiness for each support group differs significantly. If the confidence intervals for the groups do not overlap, or if the null hypothesis falls outside the confidence intervals, I will reject the null hypothesis, indicating a significant association between the presence of a support system and an individual's happiness during the pandemic.\n",
    "\n",
    "**hypothesis for this experiment:**\n",
    "Given the importance of social connections during challenging times, I hypothesize that individuals with strong support systems report higher happiness during the pandemic."
   ]
  },
  {
   "cell_type": "markdown",
   "id": "74b97f5a",
   "metadata": {},
   "source": [
    "# Option 3"
   ]
  },
  {
   "cell_type": "markdown",
   "id": "0ce1a3d4",
   "metadata": {},
   "source": [
    "**research question:**\n",
    "\n",
    "How does the extent to which the pandemic scares an individual relate with the extent they followed COVID-19 prevention practices?\n",
    "\n",
    "**variables:**\n",
    "\n",
    "independent (numerical data): an individual's level of fear during the pandemic denoted by a numerical scale from 0 to 10\n",
    "\n",
    "note: 0 being not scared at all and 10 being very scared\n",
    "\n",
    "dependent (categorical; ordinal data): the degree at which an individual followed the COVID-19 prevention practices denoted by the responses \"very closely\", \"somewhat closely\", \"not at all\", \"n/a\"\n",
    "\n",
    "note: each degree will be assigned a numerical value\n",
    "e.g. \"very closely\" will be 3 and \"not at all\" will be 0\n",
    "\n",
    "**hypothesis:**\n",
    "\n",
    "null hypothesis: There is no association between pandemic-related fear and adherence to COVID-19 prevention practices.\n",
    "\n",
    "alternative hypothesis: There is an association between pandemic-related fear and adherence to COVID-19 prevention practices.\n",
    "\n",
    "**analyses i plan on performing:**\n",
    "Through analyzing the relationship between a numerical dependent variable (extent of following prevention practices) and an independent categorical variable (extent of fear regarding the pandemic to better understand \n",
    "\n",
    "# step 1 - cleaning data & visualization:\n",
    "First, I'll calculate summary statistics (mean, median, standard deviation, IQRs) for both “fear level” and “prevention adherence” to gain a better understanding of my data's central tendencies, spread, and any potential issues (like outliers or skewness). This analysis will inform how I clean the data. I'll remove any rows with missing values for the relevant columns (fear level and adherence level). If there are non-response options like “N/A,” I may decide whether to exclude them from my analysis or assign them a neutral numeric value (e.g., leave blank or as 0 if “not at all”). But as of right now I'm not sure. \n",
    "\n",
    "Next, I’ll use a bar plot for the \"prevention practices\" variable to visualize the frequency of each response (\"very closely,\" \"somewhat closely,\" etc.), helping me understand the spread of responses across these categories. \n",
    "If the \"fear level\" distribution is roughly normal, I’ll proceed with bootstrapping to construct confidence intervals. If it’s skewed or the sample size is small, I’ll explore whether increasing the sample size could provide a more representative distribution.\n",
    "\n",
    "# step 2 - bootstrapping:\n",
    "Next, I'll generate a bootstrap distribution of the correlation between \"fear level\" and \"COVID-19 prevention adherence\" using sampling with replacement\n",
    "\n",
    "I'll define the statistic and draw bootstrap samples using sampling with replacement, ensuring that the size of each bootstrap sample matches that of the original sample to generate my bootstrapped distribution.\n",
    "I'll repeatedly sample from each fear level group (e.g., \"very closely,\" \"somewhat closely,\" \"not at all\") to establish a distribution of mean prevention adherence scores. I'll define the statistic (mean or median prevention adherence) for each fear level group and draw bootstrap samples with replacement, ensuring the sample size matches the original dataset’s size. Then, I'll calculate the 2.5th and 97.5th percentiles of the bootstrapped distribution to establish the confidence interval for prevention adherence levels within each fear group. I'll repeat this process at least 1,000 times to create a stable bootstrapped distribution.\n",
    "\n",
    "The constructed confidence intervals will allow me to test whether the average adherence to COVID-19 prevention practices for each fear level group differs significantly. If the confidence intervals for the groups do not overlap, or if the null hypothesis falls outside the confidence intervals, I will reject the null hypothesis, indicating a significant association between the level of fear regarding the pandemic and an individual's adherence to COVID-19 prevention practices.\n",
    "\n",
    "# step 3 - linear regression model:\n",
    "Next, I can construct a simple linear regression model to quantify the degree of this correlation and determine if there’s a statistically significant (a low p-value) difference in the relationship between “fear level” and “prevention adherence.”\n",
    "\n",
    "When using a linear regression model, we are under the assumption that the relationship between variables is linear and independent, that the residuals (errors) have a constant variance and are normally distributed. I'll be calling statsmodels to fit the linear regression model to my data using the equation Y=β0+β1X+ϵ. I will interpret the coefficients and evaluate the model fit using the R-squared value and the p-value. Next, I'll be able to visualize the regression line over a scatter plot of my data points to observe the fit; this scatter plot will represent \"COVID-19 prevention adherence\" against the \"level of fear\" regarding the pandemic. \n",
    "\n",
    "From this model, I will summarize the strength and significance of the association and interpret the slope, noting that a larger absolute value of the slope indicates a stronger relationship between fear level and adherence to COVID-19 prevention practices. Ultimately, this analysis will help me understand how changes in the level of fear predict changes in adherence to COVID-19 prevention practices during the pandemic.\n",
    "\n",
    "**hypothesis for this experiment:**\n",
    "I hypothesize that individuals who experience higher levels of fear regarding the pandemic will report greater adherence to COVID-19 prevention practices, as fear may motivate them to take precautions to protect themselves and others."
   ]
  }
 ],
 "metadata": {
  "kernelspec": {
   "display_name": "Python 3 (ipykernel)",
   "language": "python",
   "name": "python3"
  },
  "language_info": {
   "codemirror_mode": {
    "name": "ipython",
    "version": 3
   },
   "file_extension": ".py",
   "mimetype": "text/x-python",
   "name": "python",
   "nbconvert_exporter": "python",
   "pygments_lexer": "ipython3",
   "version": "3.11.6"
  }
 },
 "nbformat": 4,
 "nbformat_minor": 5
}
